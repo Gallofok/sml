{
 "cells": [
  {
   "cell_type": "code",
   "execution_count": null,
   "id": "96901f40",
   "metadata": {},
   "outputs": [],
   "source": [
    "# Import Modules from the Library\n",
    "import numpy as np\n",
    "import pandas as pd\n",
    "import matplotlib.pyplot as plt"
   ]
  },
  {
   "cell_type": "code",
   "execution_count": null,
   "id": "9a870bc7",
   "metadata": {},
   "outputs": [],
   "source": []
  },
  {
   "cell_type": "code",
   "execution_count": null,
   "id": "c4d5af7f",
   "metadata": {},
   "outputs": [],
   "source": [
    "# Seed of the Random Number Generator\n",
    "np.random.seed(1001)"
   ]
  },
  {
   "cell_type": "code",
   "execution_count": null,
   "id": "dcbd9ca2",
   "metadata": {},
   "outputs": [],
   "source": []
  },
  {
   "cell_type": "markdown",
   "id": "75ae1747",
   "metadata": {},
   "source": [
    "### Let's simulate 100 coin flips:"
   ]
  },
  {
   "cell_type": "code",
   "execution_count": null,
   "id": "499671ab",
   "metadata": {},
   "outputs": [],
   "source": [
    "p = 0.5\n",
    "N = 100"
   ]
  },
  {
   "cell_type": "code",
   "execution_count": null,
   "id": "b85bf5d9",
   "metadata": {},
   "outputs": [],
   "source": [
    "rv = np.random.rand(10)"
   ]
  },
  {
   "cell_type": "code",
   "execution_count": null,
   "id": "95b335bb",
   "metadata": {},
   "outputs": [],
   "source": [
    "(rv < 0.7) * 2.5"
   ]
  },
  {
   "cell_type": "code",
   "execution_count": null,
   "id": "6f56d19f",
   "metadata": {},
   "outputs": [],
   "source": []
  },
  {
   "cell_type": "code",
   "execution_count": null,
   "id": "5c116bce",
   "metadata": {},
   "outputs": [],
   "source": [
    "rv = np.random.rand(N) <= p"
   ]
  },
  {
   "cell_type": "code",
   "execution_count": null,
   "id": "f7fae602",
   "metadata": {},
   "outputs": [],
   "source": [
    "rv.dtype"
   ]
  },
  {
   "cell_type": "code",
   "execution_count": null,
   "id": "cd3f12b0",
   "metadata": {},
   "outputs": [],
   "source": [
    "rv = rv.astype(\"float\")"
   ]
  },
  {
   "cell_type": "code",
   "execution_count": null,
   "id": "c2035927",
   "metadata": {},
   "outputs": [],
   "source": [
    "rv"
   ]
  },
  {
   "cell_type": "code",
   "execution_count": null,
   "id": "e942123e",
   "metadata": {},
   "outputs": [],
   "source": [
    "result = rv.sum(axis=0)"
   ]
  },
  {
   "cell_type": "code",
   "execution_count": null,
   "id": "9cab0ec2",
   "metadata": {},
   "outputs": [],
   "source": [
    "result"
   ]
  },
  {
   "cell_type": "code",
   "execution_count": null,
   "id": "0dc4518f",
   "metadata": {},
   "outputs": [],
   "source": []
  },
  {
   "cell_type": "code",
   "execution_count": null,
   "id": "282748e5",
   "metadata": {},
   "outputs": [],
   "source": []
  },
  {
   "cell_type": "markdown",
   "id": "e8d6bafb",
   "metadata": {},
   "source": [
    "### What happens, if we repeat this experiment 1000 times?"
   ]
  },
  {
   "cell_type": "code",
   "execution_count": null,
   "id": "97452247",
   "metadata": {},
   "outputs": [],
   "source": [
    "p = 0.75\n",
    "N = 100\n",
    "\n",
    "rv = np.random.rand(N,100000) <= p\n",
    "result = rv.sum(axis=0)\n",
    "plt.hist(result, bins=np.linspace(0,100,101))"
   ]
  },
  {
   "cell_type": "code",
   "execution_count": null,
   "id": "c38be86c",
   "metadata": {},
   "outputs": [],
   "source": []
  },
  {
   "cell_type": "markdown",
   "id": "1f845e33",
   "metadata": {},
   "source": [
    "### Can we do anything useful with this?"
   ]
  },
  {
   "cell_type": "code",
   "execution_count": null,
   "id": "c2d9f309",
   "metadata": {},
   "outputs": [],
   "source": [
    "N = 100"
   ]
  },
  {
   "cell_type": "code",
   "execution_count": null,
   "id": "d8d52c90",
   "metadata": {},
   "outputs": [],
   "source": [
    "x = np.random.rand(N)\n",
    "y = np.random.rand(N)"
   ]
  },
  {
   "cell_type": "code",
   "execution_count": null,
   "id": "5e6c4808",
   "metadata": {},
   "outputs": [],
   "source": [
    "x_line = np.linspace(0., 1., 100)\n",
    "y_line = np.sqrt(1 - x_line*x_line)"
   ]
  },
  {
   "cell_type": "code",
   "execution_count": null,
   "id": "a40215da",
   "metadata": {},
   "outputs": [],
   "source": [
    "fig, ax = plt.subplots(figsize=(8,8))\n",
    "ax.scatter(x, y, marker=\"x\")\n",
    "ax.plot(x_line, y_line, \"g\", lw=4, alpha=0.5)"
   ]
  },
  {
   "cell_type": "code",
   "execution_count": null,
   "id": "e403d0c9",
   "metadata": {},
   "outputs": [],
   "source": []
  },
  {
   "cell_type": "markdown",
   "id": "d37967fa",
   "metadata": {},
   "source": [
    "### From this sample we can estimate $\\pi$\n",
    "\n",
    "### $\\frac{N_{Inside}}{N} \\approx \\frac{Area Circle}{Area Square} = \\frac{\\frac{1}{4} \\pi r^2}{r^2} = \\frac{\\pi}{4}$\n",
    "\n",
    "### $\\Rightarrow \\pi \\approx 4 \\cdot \\frac{N_{Inside}}{N}$"
   ]
  },
  {
   "cell_type": "code",
   "execution_count": null,
   "id": "e31696c8",
   "metadata": {},
   "outputs": [],
   "source": [
    "z = x*x + y*y <= 1"
   ]
  },
  {
   "cell_type": "code",
   "execution_count": null,
   "id": "165c83d9",
   "metadata": {},
   "outputs": [],
   "source": [
    "pi_prediction = z.sum() / N * 4\n",
    "pi_prediction"
   ]
  },
  {
   "cell_type": "code",
   "execution_count": null,
   "id": "3cd4e2aa",
   "metadata": {},
   "outputs": [],
   "source": []
  },
  {
   "cell_type": "code",
   "execution_count": null,
   "id": "5860cc88",
   "metadata": {
    "scrolled": true
   },
   "outputs": [],
   "source": [
    "results_N = []\n",
    "results_pi = []\n",
    "\n",
    "N = 1\n",
    "while N < 1_000_000:\n",
    "    \n",
    "    x = np.random.rand(N)\n",
    "    y = np.random.rand(N)\n",
    "    z = x*x + y*y <= 1\n",
    "    pi_pred = z.sum() / N * 4\n",
    "    #print(N, pi_pred, pi_pred - np.pi)\n",
    "    \n",
    "    results_N.append(N)\n",
    "    results_pi.append(pi_pred)\n",
    "    \n",
    "    N = int(N*1.2 + 1)"
   ]
  },
  {
   "cell_type": "code",
   "execution_count": null,
   "id": "fbd228bc",
   "metadata": {},
   "outputs": [],
   "source": [
    "fig, ax = plt.subplots(figsize=(10,6))\n",
    "ax.plot(results_N, results_pi, label=\"prediction\")\n",
    "ax.plot(results_N, results_pi, \".\", color=\"blue\", alpha=0.5)\n",
    "ax.fill_between(results_N, np.pi + np.power(results_N, -0.5)*3.33, np.pi - np.power(results_N, -0.5)*3.33, alpha=0.3)\n",
    "ax.semilogx()\n",
    "ax.hlines([np.pi], xmin=results_N[0], xmax=results_N[-1], color=\"red\", alpha=0.7, label=\"$\\pi$\")\n",
    "ax.legend()\n",
    "ax.set_xlabel(\"N\")\n",
    "ax.set_ylabel(\"absolute error\")"
   ]
  },
  {
   "cell_type": "code",
   "execution_count": null,
   "id": "798b5c67",
   "metadata": {},
   "outputs": [],
   "source": [
    "fig, ax = plt.subplots(figsize=(10,6))\n",
    "ax.plot(results_N, np.abs(np.asarray(results_pi) - np.pi), label=\"prediction\")\n",
    "ax.semilogx()\n",
    "ax.semilogy()\n",
    "ax.legend()\n",
    "ax.set_xlabel(\"N\")\n",
    "ax.set_ylabel(\"absolute error\")"
   ]
  },
  {
   "cell_type": "code",
   "execution_count": null,
   "id": "8216be63",
   "metadata": {},
   "outputs": [],
   "source": [
    "fig, ax = plt.subplots(figsize=(10,6))\n",
    "ax.plot(results_N, np.abs(np.asarray(results_pi) - np.pi), label=\"prediction\")\n",
    "ax.plot(np.asarray(results_N), 1./np.sqrt(np.asarray(results_N)), ':', label=\"$1/\\sqrt{2}$\")\n",
    "ax.semilogx()\n",
    "ax.semilogy()\n",
    "ax.legend()\n",
    "ax.set_xlabel(\"N\")\n",
    "ax.set_ylabel(\"absolute error\")"
   ]
  },
  {
   "cell_type": "code",
   "execution_count": null,
   "id": "bf34ef8d",
   "metadata": {},
   "outputs": [],
   "source": []
  },
  {
   "cell_type": "markdown",
   "id": "1a9c5d89",
   "metadata": {},
   "source": [
    "We want to predict:    $\\qquad \\phi = \\int f(x) p(x) dx = \\mathbb{E}_p(f)$\n",
    "\n",
    "Our MC-Estimator: $\\qquad \\hat{\\phi} = \\frac{1}{N} \\sum_{i=1}^{N} f(x_i)$ \n",
    "\n",
    "Our sammples are drawn independent and identically distributed (i.i.d.): $ x_i \\sim p, \\quad p(x_i = x) = p(x), \\qquad p(x_i, x_j) = p(x_i) p(x_j)$"
   ]
  },
  {
   "cell_type": "markdown",
   "id": "1158fd6a",
   "metadata": {},
   "source": [
    "Bias of our Estimator: \\\n",
    "\\begin{equation}\n",
    "\\quad \\mathbb{E} [\\hat{\\phi}] = \\int \\frac{1}{N} \\sum_{i=1}^{N} f(x_i) p(x_i) dx_i = \\sum_{i=1}^{N} \\int \\frac{1}{N} f(x_i) p(x_i) dx_i = \\frac{1}{N} \\sum_{i=1}^{N} \\mathbb{E} [f(x_i)] = \\phi \\quad \\rightarrow \\hat{\\phi} \\text{ is unbiased!} \n",
    "\\end{equation}"
   ]
  },
  {
   "cell_type": "markdown",
   "id": "8acc4a63",
   "metadata": {},
   "source": [
    "Variance of the Estimator:\n",
    "\\begin{equation}\n",
    "\\quad \\mathbb{E} \\left[\\hat{\\phi} - \\mathbb{E} [\\hat{\\phi}] \\right] = \\mathbb{E} \\left[ \\frac{1}{N} \\sum_{i=1}^{N} \\left( f(x_i) - \\phi \\right)   \\right]^2 \n",
    "\\end{equation}\n",
    "\n",
    "\\begin{eqnarray}\n",
    "\\quad \\mathbb{E} \\left[\\hat{\\phi} - \\mathbb{E} [\\hat{\\phi}] \\right] &=& \\mathbb{E} \\left[ \\frac{1}{N} \\sum_{i=1}^{N} \\left( f(x_i) - \\phi \\right)   \\right]^2 \\\\\n",
    "\\qquad &=& \\frac{1}{N^2} \\sum_{i=1}^{N} \\sum_{j=1}^{N} \\mathbb{E}[f(x_i) f(x_j)] - \\phi \\mathbb{E}[f(x_i)] - \\mathbb{E}[f(x_j) \\phi + \\phi^2 \\\\\n",
    "\\qquad &=&  \\frac{1}{N^2} \\sum_{i=1}^{N}  \\left( \\left( \\sum_{i \\neq j}  \\phi^2 - 2 \\phi^2 + \\phi^2  \\right)  + \\mathbb{E} [f^2] - \\phi^2\\right)\\\\\n",
    "\\qquad &=&  \\frac{1}{N^2} \\sum_{i=1}^{N}  \\left( \\left( 0 \\right) + var(f)\\right)\\\\\n",
    "\\qquad &=&  \\frac{1}{N}  var(f) = \\mathcal{O}(N^{-1})\n",
    "\\end{eqnarray}"
   ]
  },
  {
   "cell_type": "code",
   "execution_count": null,
   "id": "718cbaee",
   "metadata": {},
   "outputs": [],
   "source": []
  }
 ],
 "metadata": {
  "kernelspec": {
   "display_name": "Python 3",
   "language": "python",
   "name": "python3"
  },
  "language_info": {
   "codemirror_mode": {
    "name": "ipython",
    "version": 3
   },
   "file_extension": ".py",
   "mimetype": "text/x-python",
   "name": "python",
   "nbconvert_exporter": "python",
   "pygments_lexer": "ipython3",
   "version": "3.8.8"
  }
 },
 "nbformat": 4,
 "nbformat_minor": 5
}
